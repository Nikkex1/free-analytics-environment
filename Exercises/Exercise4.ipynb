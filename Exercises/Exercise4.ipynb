{
 "cells": [
  {
   "cell_type": "markdown",
   "id": "8d1eb223",
   "metadata": {},
   "source": [
    "# Week 4"
   ]
  },
  {
   "cell_type": "code",
   "execution_count": 243,
   "id": "2aca1651",
   "metadata": {},
   "outputs": [],
   "source": [
    "# Imports\n",
    "import pandas as pd\n",
    "from sklearn.preprocessing import OrdinalEncoder, MinMaxScaler\n",
    "import numpy as np"
   ]
  },
  {
   "cell_type": "markdown",
   "id": "a2cc9bb1",
   "metadata": {},
   "source": [
    "## Python exercises for data preprocessing"
   ]
  },
  {
   "cell_type": "code",
   "execution_count": 244,
   "id": "a7c4dd92",
   "metadata": {},
   "outputs": [
    {
     "name": "stdout",
     "output_type": "stream",
     "text": [
      "       Temperature     Humidity   Wind_Speed  Wind_Direction  NO2_Location_A  \\\n",
      "count  8784.000000  8784.000000  8784.000000     8784.000000     8664.000000   \n",
      "mean     13.110913    66.679417    11.279210      197.595605       22.047992   \n",
      "std       7.363943    14.871943     8.443103       91.961627       15.597173   \n",
      "min      -2.789471    20.000000     0.000000        1.218872       -0.460000   \n",
      "25%       7.360529    56.000000     5.506941      116.565050       10.600000   \n",
      "50%      12.680529    68.000000     8.891343      206.138925       17.550000   \n",
      "75%      18.553030    78.000000    14.720416      272.503370       29.300000   \n",
      "max      33.870530    98.000000    65.446770      360.000000      116.600000   \n",
      "\n",
      "       NO2_Location_B  NO2_Location_C  \n",
      "count     8204.000000     8652.000000  \n",
      "mean        29.000569       45.347931  \n",
      "std         20.630746       26.735531  \n",
      "min          0.430000        0.150000  \n",
      "25%         13.900000       24.030000  \n",
      "50%         22.750000       40.550000  \n",
      "75%         38.607500       62.122500  \n",
      "max        151.850000      168.280000  \n",
      "<class 'pandas.core.frame.DataFrame'>\n",
      "RangeIndex: 8784 entries, 0 to 8783\n",
      "Data columns (total 8 columns):\n",
      " #   Column          Non-Null Count  Dtype  \n",
      "---  ------          --------------  -----  \n",
      " 0   DateTime        8784 non-null   object \n",
      " 1   Temperature     8784 non-null   float64\n",
      " 2   Humidity        8784 non-null   int64  \n",
      " 3   Wind_Speed      8784 non-null   float64\n",
      " 4   Wind_Direction  8784 non-null   float64\n",
      " 5   NO2_Location_A  8664 non-null   float64\n",
      " 6   NO2_Location_B  8204 non-null   float64\n",
      " 7   NO2_Location_C  8652 non-null   float64\n",
      "dtypes: float64(6), int64(1), object(1)\n",
      "memory usage: 549.1+ KB\n",
      "\n",
      "None\n",
      "\n",
      "        DateTime  Temperature  Humidity  Wind_Speed  Wind_Direction  \\\n",
      "0  1/1/2020 0:00     2.180529        87    1.484318       75.963760   \n",
      "1  1/1/2020 1:00     1.490529        89    2.741678      113.198590   \n",
      "2  1/1/2020 2:00     1.690529        85    3.563818      135.000000   \n",
      "3  1/1/2020 3:00     1.430529        84    2.811690      129.805570   \n",
      "4  1/1/2020 4:00     0.840529        86    1.800000      126.869896   \n",
      "\n",
      "   NO2_Location_A  NO2_Location_B  NO2_Location_C  \n",
      "0           39.23           52.88           62.37  \n",
      "1           38.30           44.95           52.53  \n",
      "2             NaN           48.40           54.80  \n",
      "3           37.28           47.18           50.80  \n",
      "4           29.97           41.48           54.43  \n"
     ]
    }
   ],
   "source": [
    "# 1\n",
    "airdata = pd.read_csv(\"airdata.csv\",sep=\",\")\n",
    "\n",
    "print(f\"{airdata.describe()}\")\n",
    "print(f\"\\n{airdata.info()}\")\n",
    "print(f\"\\n{airdata.head()}\")"
   ]
  },
  {
   "cell_type": "code",
   "execution_count": 245,
   "id": "5a9eb0b9",
   "metadata": {},
   "outputs": [
    {
     "name": "stdout",
     "output_type": "stream",
     "text": [
      "Initial Check:\n",
      "DateTime            0\n",
      "Temperature         0\n",
      "Humidity            0\n",
      "Wind_Speed          0\n",
      "Wind_Direction      0\n",
      "NO2_Location_A    120\n",
      "NO2_Location_B    580\n",
      "NO2_Location_C    132\n",
      "dtype: int64\n",
      "\n",
      "After imputing:\n",
      "DateTime            0\n",
      "Temperature         0\n",
      "Humidity            0\n",
      "Wind_Speed          0\n",
      "Wind_Direction      0\n",
      "NO2_Location_A    120\n",
      "NO2_Location_B      0\n",
      "NO2_Location_C    132\n",
      "dtype: int64\n",
      "\n",
      "After dropping:\n",
      "DateTime          0\n",
      "Temperature       0\n",
      "Humidity          0\n",
      "Wind_Speed        0\n",
      "Wind_Direction    0\n",
      "NO2_Location_A    0\n",
      "NO2_Location_B    0\n",
      "NO2_Location_C    0\n",
      "dtype: int64\n"
     ]
    }
   ],
   "source": [
    "# i)\n",
    "print(\"Initial Check:\")\n",
    "print(airdata.isnull().sum())\n",
    "# ii)\n",
    "airdata[\"NO2_Location_B\"] = airdata[\"NO2_Location_B\"].fillna(airdata[\"NO2_Location_B\"].mean())\n",
    "\n",
    "print(\"\\nAfter imputing:\")\n",
    "print(airdata.isnull().sum())\n",
    "\n",
    "airdata.dropna(inplace=True)\n",
    "\n",
    "print(\"\\nAfter dropping:\")\n",
    "print(airdata.isnull().sum())"
   ]
  },
  {
   "cell_type": "code",
   "execution_count": 246,
   "id": "36cad491",
   "metadata": {},
   "outputs": [
    {
     "name": "stdout",
     "output_type": "stream",
     "text": [
      "               rc          sc         pcv          sg        hemo\n",
      "count  269.000000  383.000000  329.000000  353.000000  348.000000\n",
      "mean     4.707435    3.072454   38.884498    1.017408   12.526437\n",
      "std      1.025323    5.741126    8.990105    0.005717    2.912587\n",
      "min      2.100000    0.400000    9.000000    1.005000    3.100000\n",
      "25%      3.900000    0.900000   32.000000    1.010000   10.300000\n",
      "50%      4.800000    1.300000   40.000000    1.020000   12.650000\n",
      "75%      5.400000    2.800000   45.000000    1.020000   15.000000\n",
      "max      8.000000   76.000000   54.000000    1.025000   17.800000\n",
      "<class 'pandas.core.frame.DataFrame'>\n",
      "RangeIndex: 400 entries, 0 to 399\n",
      "Data columns (total 6 columns):\n",
      " #   Column     Non-Null Count  Dtype  \n",
      "---  ------     --------------  -----  \n",
      " 0   rc         269 non-null    float64\n",
      " 1   sc         383 non-null    float64\n",
      " 2   pcv        329 non-null    float64\n",
      " 3   sg         353 non-null    float64\n",
      " 4   hemo       348 non-null    float64\n",
      " 5   diagnosis  400 non-null    object \n",
      "dtypes: float64(5), object(1)\n",
      "memory usage: 18.9+ KB\n",
      "\n",
      "None\n",
      "\n",
      "    rc   sc   pcv     sg  hemo diagnosis\n",
      "0  5.2  1.2  44.0  1.020  15.4       ckd\n",
      "1  NaN  0.8  38.0  1.020  11.3       ckd\n",
      "2  NaN  1.8  31.0  1.010   9.6       ckd\n",
      "3  3.9  3.8  32.0  1.005  11.2       ckd\n",
      "4  4.6  1.4  35.0  1.010  11.6       ckd\n"
     ]
    }
   ],
   "source": [
    "# 2\n",
    "kidney_disease = pd.read_csv(\"kidney_disease.csv\",sep=\",\")\n",
    "\n",
    "print(f\"{kidney_disease.describe()}\")\n",
    "print(f\"\\n{kidney_disease.info()}\")\n",
    "print(f\"\\n{kidney_disease.head()}\")"
   ]
  },
  {
   "cell_type": "code",
   "execution_count": 247,
   "id": "0062d566",
   "metadata": {},
   "outputs": [
    {
     "name": "stdout",
     "output_type": "stream",
     "text": [
      "Duplicate rows: 10\n",
      "Duplicate rows after dropping: 0\n"
     ]
    }
   ],
   "source": [
    "# i)\n",
    "print(f\"Duplicate rows: {kidney_disease.duplicated().sum()}\")\n",
    "\n",
    "# ii)\n",
    "kidney_disease.drop_duplicates(inplace=True)\n",
    "print(f\"Duplicate rows after dropping: {kidney_disease.duplicated().sum()}\")"
   ]
  },
  {
   "cell_type": "code",
   "execution_count": 248,
   "id": "3dfcae71",
   "metadata": {},
   "outputs": [
    {
     "name": "stdout",
     "output_type": "stream",
     "text": [
      "             Music  Slow songs or fast songs        Dance         Folk  \\\n",
      "count  1007.000000               1008.000000  1006.000000  1005.000000   \n",
      "mean      4.731877                  3.328373     3.113320     2.288557   \n",
      "std       0.664049                  0.833931     1.170568     1.138916   \n",
      "min       1.000000                  1.000000     1.000000     1.000000   \n",
      "25%       5.000000                  3.000000     2.000000     1.000000   \n",
      "50%       5.000000                  3.000000     3.000000     2.000000   \n",
      "75%       5.000000                  4.000000     4.000000     3.000000   \n",
      "max       5.000000                  5.000000     5.000000     5.000000   \n",
      "\n",
      "           Country  Classical music      Musical          Pop         Rock  \\\n",
      "count  1005.000000      1003.000000  1008.000000  1007.000000  1004.000000   \n",
      "mean      2.123383         2.956132     2.761905     3.471698     3.761952   \n",
      "std       1.076136         1.252570     1.260845     1.161400     1.184861   \n",
      "min       1.000000         1.000000     1.000000     1.000000     1.000000   \n",
      "25%       1.000000         2.000000     2.000000     3.000000     3.000000   \n",
      "50%       2.000000         3.000000     3.000000     4.000000     4.000000   \n",
      "75%       3.000000         4.000000     4.000000     4.000000     5.000000   \n",
      "max       5.000000         5.000000     5.000000     5.000000     5.000000   \n",
      "\n",
      "       Metal or Hardrock  ...  Shopping centres  Branded clothing  \\\n",
      "count        1007.000000  ...       1008.000000       1008.000000   \n",
      "mean            2.361470  ...          3.234127          3.050595   \n",
      "std             1.372995  ...          1.323062          1.306321   \n",
      "min             1.000000  ...          1.000000          1.000000   \n",
      "25%             1.000000  ...          2.000000          2.000000   \n",
      "50%             2.000000  ...          3.000000          3.000000   \n",
      "75%             3.000000  ...          4.000000          4.000000   \n",
      "max             5.000000  ...          5.000000          5.000000   \n",
      "\n",
      "       Entertainment spending  Spending on looks  Spending on gadgets  \\\n",
      "count             1007.000000        1007.000000          1010.000000   \n",
      "mean                 3.201589           3.106256             2.870297   \n",
      "std                  1.188947           1.205368             1.284970   \n",
      "min                  1.000000           1.000000             1.000000   \n",
      "25%                  2.000000           2.000000             2.000000   \n",
      "50%                  3.000000           3.000000             3.000000   \n",
      "75%                  4.000000           4.000000             4.000000   \n",
      "max                  5.000000           5.000000             5.000000   \n",
      "\n",
      "       Spending on healthy eating          Age      Height      Weight  \\\n",
      "count                  1008.00000  1003.000000  990.000000  990.000000   \n",
      "mean                      3.55754    20.433699  173.514141   66.405051   \n",
      "std                       1.09375     2.828840   10.024505   13.839561   \n",
      "min                       1.00000    15.000000   62.000000   41.000000   \n",
      "25%                       3.00000    19.000000  167.000000   55.000000   \n",
      "50%                       4.00000    20.000000  173.000000   64.000000   \n",
      "75%                       4.00000    22.000000  180.000000   75.000000   \n",
      "max                       5.00000    30.000000  203.000000  165.000000   \n",
      "\n",
      "       Number of siblings  \n",
      "count         1004.000000  \n",
      "mean             1.297809  \n",
      "std              1.013348  \n",
      "min              0.000000  \n",
      "25%              1.000000  \n",
      "50%              1.000000  \n",
      "75%              2.000000  \n",
      "max             10.000000  \n",
      "\n",
      "[8 rows x 139 columns]\n",
      "<class 'pandas.core.frame.DataFrame'>\n",
      "RangeIndex: 1010 entries, 0 to 1009\n",
      "Columns: 150 entries, Music to House - block of flats\n",
      "dtypes: float64(134), int64(5), object(11)\n",
      "memory usage: 1.2+ MB\n",
      "\n",
      "None\n",
      "\n",
      "   Music  Slow songs or fast songs  Dance  Folk  Country  Classical music  \\\n",
      "0    5.0                       3.0    2.0   1.0      2.0              2.0   \n",
      "1    4.0                       4.0    2.0   1.0      1.0              1.0   \n",
      "2    5.0                       5.0    2.0   2.0      3.0              4.0   \n",
      "3    5.0                       3.0    2.0   1.0      1.0              1.0   \n",
      "4    5.0                       3.0    4.0   3.0      2.0              4.0   \n",
      "\n",
      "   Musical  Pop  Rock  Metal or Hardrock  ...   Age  Height  Weight  \\\n",
      "0      1.0  5.0   5.0                1.0  ...  20.0   163.0    48.0   \n",
      "1      2.0  3.0   5.0                4.0  ...  19.0   163.0    58.0   \n",
      "2      5.0  3.0   5.0                3.0  ...  20.0   176.0    67.0   \n",
      "3      1.0  2.0   2.0                1.0  ...  22.0   172.0    59.0   \n",
      "4      3.0  5.0   3.0                1.0  ...  20.0   170.0    59.0   \n",
      "\n",
      "   Number of siblings  Gender  Left - right handed                Education  \\\n",
      "0                 1.0  female         right handed  college/bachelor degree   \n",
      "1                 2.0  female         right handed  college/bachelor degree   \n",
      "2                 2.0  female         right handed         secondary school   \n",
      "3                 1.0  female         right handed  college/bachelor degree   \n",
      "4                 1.0  female         right handed         secondary school   \n",
      "\n",
      "   Only child  Village - town  House - block of flats  \n",
      "0          no         village          block of flats  \n",
      "1          no            city          block of flats  \n",
      "2          no            city          block of flats  \n",
      "3         yes            city          house/bungalow  \n",
      "4          no         village          house/bungalow  \n",
      "\n",
      "[5 rows x 150 columns]\n",
      "['Music', 'Slow songs or fast songs', 'Dance', 'Folk', 'Country', 'Classical music', 'Musical', 'Pop', 'Rock', 'Metal or Hardrock', 'Punk', 'Hiphop, Rap', 'Reggae, Ska', 'Swing, Jazz', 'Rock n roll', 'Alternative', 'Latino', 'Techno, Trance', 'Opera', 'Movies', 'Horror', 'Thriller', 'Comedy', 'Romantic', 'Sci-fi', 'War', 'Fantasy/Fairy tales', 'Animated', 'Documentary', 'Western', 'Action', 'History', 'Psychology', 'Politics', 'Mathematics', 'Physics', 'Internet', 'PC', 'Economy Management', 'Biology', 'Chemistry', 'Reading', 'Geography', 'Foreign languages', 'Medicine', 'Law', 'Cars', 'Art exhibitions', 'Religion', 'Countryside, outdoors', 'Dancing', 'Musical instruments', 'Writing', 'Passive sport', 'Active sport', 'Gardening', 'Celebrities', 'Shopping', 'Science and technology', 'Theatre', 'Fun with friends', 'Adrenaline sports', 'Pets', 'Flying', 'Storm', 'Darkness', 'Heights', 'Spiders', 'Snakes', 'Rats', 'Ageing', 'Dangerous dogs', 'Fear of public speaking', 'Smoking', 'Alcohol', 'Healthy eating', 'Daily events', 'Prioritising workload', 'Writing notes', 'Workaholism', 'Thinking ahead', 'Final judgement', 'Reliability', 'Keeping promises', 'Loss of interest', 'Friends versus money', 'Funniness', 'Fake', 'Criminal damage', 'Decision making', 'Elections', 'Self-criticism', 'Judgment calls', 'Hypochondria', 'Empathy', 'Eating to survive', 'Giving', 'Compassion to animals', 'Borrowed stuff', 'Loneliness', 'Cheating in school', 'Health', 'Changing the past', 'God', 'Dreams', 'Charity', 'Number of friends', 'Punctuality', 'Lying', 'Waiting', 'New environment', 'Mood swings', 'Appearence and gestures', 'Socializing', 'Achievements', 'Responding to a serious letter', 'Children', 'Assertiveness', 'Getting angry', 'Knowing the right people', 'Public speaking', 'Unpopularity', 'Life struggles', 'Happiness in life', 'Energy levels', 'Small - big dogs', 'Personality', 'Finding lost valuables', 'Getting up', 'Interests or hobbies', \"Parents' advice\", 'Questionnaires or polls', 'Internet usage', 'Finances', 'Shopping centres', 'Branded clothing', 'Entertainment spending', 'Spending on looks', 'Spending on gadgets', 'Spending on healthy eating', 'Age', 'Height', 'Weight', 'Number of siblings', 'Gender', 'Left - right handed', 'Education', 'Only child', 'Village - town', 'House - block of flats']\n"
     ]
    }
   ],
   "source": [
    "# 3\n",
    "responses = pd.read_csv(\"responses.csv\",sep=\",\")\n",
    "\n",
    "print(f\"{responses.describe()}\")\n",
    "print(f\"\\n{responses.info()}\")\n",
    "print(f\"\\n{responses.head()}\")\n",
    "\n",
    "responses_cols = responses.columns.to_list()\n",
    "print(responses_cols)"
   ]
  },
  {
   "cell_type": "code",
   "execution_count": 249,
   "id": "aa63efd5",
   "metadata": {},
   "outputs": [
    {
     "name": "stdout",
     "output_type": "stream",
     "text": [
      "                            Education  Education_code\n",
      "0             college/bachelor degree               3\n",
      "2                    secondary school               2\n",
      "11                     primary school               1\n",
      "33                     masters degree               4\n",
      "156                  doctorate degree               5\n",
      "158  currently a primary school pupil               0\n"
     ]
    }
   ],
   "source": [
    "# i)\n",
    "responses.dropna(inplace=True)\n",
    "\n",
    "# ii)\n",
    "responses_encoded = pd.get_dummies(responses,columns=[\"Gender\"],dtype=int)\n",
    "\n",
    "# iii)\n",
    "education_order = [\"currently a primary school pupil\",\"primary school\",\n",
    "                   \"secondary school\",\"college/bachelor degree\",\n",
    "                   \"masters degree\",\"doctorate degree\"]\n",
    "\n",
    "encoder = OrdinalEncoder(categories=[education_order])\n",
    "\n",
    "responses_encoded[\"Education_code\"] = encoder.fit_transform(responses_encoded[[\"Education\"]]).astype(int)\n",
    "\n",
    "# iv)\n",
    "print(responses_encoded[[\"Education\",\"Education_code\"]].drop_duplicates())"
   ]
  },
  {
   "cell_type": "code",
   "execution_count": 250,
   "id": "ed7a0f74",
   "metadata": {},
   "outputs": [
    {
     "name": "stdout",
     "output_type": "stream",
     "text": [
      "          client_id   loan_amount      repaid       loan_id        rate\n",
      "count    443.000000    443.000000  443.000000    443.000000  443.000000\n",
      "mean   38911.060948   7982.311512    0.534989  11017.101580    3.217156\n",
      "std     7768.681063   4172.891992    0.499338    581.826222    2.397168\n",
      "min    25707.000000    559.000000    0.000000  10009.000000    0.010000\n",
      "25%    32885.000000   4232.500000    0.000000  10507.500000    1.220000\n",
      "50%    39505.000000   8320.000000    1.000000  11033.000000    2.780000\n",
      "75%    46109.000000  11739.000000    1.000000  11526.000000    4.750000\n",
      "max    49624.000000  14971.000000    1.000000  11991.000000   12.620000\n",
      "<class 'pandas.core.frame.DataFrame'>\n",
      "RangeIndex: 443 entries, 0 to 442\n",
      "Data columns (total 8 columns):\n",
      " #   Column       Non-Null Count  Dtype  \n",
      "---  ------       --------------  -----  \n",
      " 0   client_id    443 non-null    int64  \n",
      " 1   loan_type    443 non-null    object \n",
      " 2   loan_amount  443 non-null    int64  \n",
      " 3   repaid       443 non-null    int64  \n",
      " 4   loan_id      443 non-null    int64  \n",
      " 5   loan_start   443 non-null    object \n",
      " 6   loan_end     443 non-null    object \n",
      " 7   rate         443 non-null    float64\n",
      "dtypes: float64(1), int64(4), object(3)\n",
      "memory usage: 27.8+ KB\n",
      "\n",
      "None\n",
      "\n",
      "   client_id loan_type  loan_amount  repaid  loan_id  loan_start    loan_end  \\\n",
      "0      46109      home        13672       0    10243  2002-04-16  2003-12-20   \n",
      "1      46109    credit         9794       0    10984  2003-10-21  2005-07-17   \n",
      "2      46109      home        12734       1    10990  2006-02-01  2007-07-05   \n",
      "3      46109      cash        12518       1    10596  2010-12-08  2013-05-05   \n",
      "4      46109    credit        14049       1    11415  2010-07-07  2012-05-21   \n",
      "\n",
      "   rate  \n",
      "0  2.15  \n",
      "1  1.25  \n",
      "2  0.68  \n",
      "3  1.24  \n",
      "4  3.13  \n"
     ]
    }
   ],
   "source": [
    "# 4\n",
    "loans = pd.read_csv(\"loans.csv\",sep=\",\")\n",
    "\n",
    "print(f\"{loans.describe()}\")\n",
    "print(f\"\\n{loans.info()}\")\n",
    "print(f\"\\n{loans.head()}\")"
   ]
  },
  {
   "cell_type": "code",
   "execution_count": 251,
   "id": "5044ad0a",
   "metadata": {},
   "outputs": [
    {
     "name": "stdout",
     "output_type": "stream",
     "text": [
      "Minimun and maximum values of the numeric columns after scaling:\n",
      "\n",
      "loan_amount:\n",
      "Min: 0.0, Max: 1.0\n",
      "repaid:\n",
      "Min: 0.0, Max: 1.0\n",
      "rate:\n",
      "Min: 0.0, Max: 1.0\n"
     ]
    }
   ],
   "source": [
    "# i)\n",
    "# normalizing ids does not make sense, so only these three:\n",
    "loans_numeric = loans[[\"loan_amount\",\"repaid\",\"rate\"]]\n",
    "\n",
    "scaler = MinMaxScaler()\n",
    "\n",
    "loans_scaled = pd.DataFrame(scaler.fit_transform(loans_numeric),columns=loans_numeric.columns)\n",
    "\n",
    "# ii)\n",
    "print(\"Minimun and maximum values of the numeric columns after scaling:\\n\")\n",
    "for col in loans_scaled.columns:\n",
    "    print(f\"{col}:\\nMin: {loans_scaled[col].min()}, Max: {loans_scaled[col].max()}\")"
   ]
  }
 ],
 "metadata": {
  "kernelspec": {
   "display_name": "base",
   "language": "python",
   "name": "python3"
  },
  "language_info": {
   "codemirror_mode": {
    "name": "ipython",
    "version": 3
   },
   "file_extension": ".py",
   "mimetype": "text/x-python",
   "name": "python",
   "nbconvert_exporter": "python",
   "pygments_lexer": "ipython3",
   "version": "3.12.7"
  }
 },
 "nbformat": 4,
 "nbformat_minor": 5
}
