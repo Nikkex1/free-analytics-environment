{
 "cells": [
  {
   "cell_type": "markdown",
   "id": "fc32a820",
   "metadata": {},
   "source": [
    "# Week 1\n",
    "First week exercise set"
   ]
  },
  {
   "cell_type": "code",
   "execution_count": 76,
   "id": "d34bfa9e",
   "metadata": {},
   "outputs": [],
   "source": [
    "# Imports\n",
    "import pandas as pd"
   ]
  },
  {
   "cell_type": "markdown",
   "id": "9be6b086",
   "metadata": {},
   "source": [
    "## Python Exercises for Arithmetic, Variables and Printing"
   ]
  },
  {
   "cell_type": "code",
   "execution_count": null,
   "id": "d286c2bc",
   "metadata": {},
   "outputs": [
    {
     "name": "stdout",
     "output_type": "stream",
     "text": [
      "44.34\n",
      "\n",
      "2+5\n",
      "\n",
      "8 + 4 equals 12\n",
      "\n",
      "Variable Eero\tdatatype <class 'str'>\n",
      "Variable 30\tdatatype <class 'int'>\n",
      "Variable True\tdatatype <class 'bool'>\n",
      "Variable 6500.5\tdatatype <class 'float'>\n",
      "\n",
      "Revenue from bread: 300.0\n",
      "Revenue from muffins 240.0\n",
      "Total revenue: 540.0\n"
     ]
    }
   ],
   "source": [
    "# 1)\n",
    "\n",
    "x1 = 12.34\n",
    "y1 = \"32.0\"\n",
    "\n",
    "print(x1 + float(y1))\n",
    "\n",
    "# 2)\n",
    "\n",
    "print(\"\\n2+5\")\n",
    "\n",
    "# 3)\n",
    "\n",
    "print(f\"\\n{8} + {4} equals {8+4}\\n\")\n",
    "\n",
    "# 4)\n",
    "\n",
    "# i.)\n",
    "name = \"Eero\"\n",
    "age = 30\n",
    "is_manager = True\n",
    "salary = 6500.50\n",
    "\n",
    "# ii. - iii.)\n",
    "for var in [name,age,is_manager,salary]:\n",
    "    print(f\"Variable {var}\\tdatatype {type(var)}\")\n",
    "\n",
    "# 5)\n",
    "\n",
    "# i.)\n",
    "bread_price = 2.5\n",
    "muffin_price = 1.2\n",
    "bread_q = 120\n",
    "muffin_q = 200\n",
    "\n",
    "# ii.)\n",
    "print(f\"\\nRevenue from bread: {bread_price*bread_q}\")\n",
    "print(f\"Revenue from muffins {muffin_price*muffin_q}\")\n",
    "print(f\"Total revenue: {(bread_price*bread_q)+(muffin_price*muffin_q)}\")"
   ]
  },
  {
   "cell_type": "markdown",
   "id": "95c82663",
   "metadata": {},
   "source": [
    "## Python Exercises for Lists and List Operations"
   ]
  },
  {
   "cell_type": "code",
   "execution_count": null,
   "id": "7a38a750",
   "metadata": {},
   "outputs": [
    {
     "name": "stdout",
     "output_type": "stream",
     "text": [
      "33.8\n",
      "0.1\n",
      "[0.1, 0.2, 0.3, 0.6, 1.9, 2, 4.3, 9.6, 14.3, 23.7, 33.8]\n",
      "Original list: [22, 24, 19, 21, 23, 20, 18]\n",
      "\n",
      "First three days: [22, 24]\n",
      "Last two days: [20, 18]\n",
      "Every other day: [22, 19, 23, 18]\n"
     ]
    }
   ],
   "source": [
    "# 1)\n",
    "\n",
    "# a.)\n",
    "rainfall = [2, 0.6, 33.8, 1.9, 9.6, 4.3, 23.7, 0.2, 0.1, 0.3]\n",
    "\n",
    "# b.)\n",
    "rainfall.append(14.3)\n",
    "\n",
    "# c.)\n",
    "print(max(rainfall))\n",
    "\n",
    "# d.)\n",
    "print(min(rainfall))\n",
    "\n",
    "# e.)\n",
    "print(sorted(rainfall))\n",
    "\n",
    "# 2)\n",
    "\n",
    "temperatures = [22, 24, 19, 21, 23, 20, 18]\n",
    "\n",
    "# i.)\n",
    "first_three_days = temperatures[:2]\n",
    "\n",
    "# ii.)\n",
    "last_two_days = temperatures[-2:]\n",
    "\n",
    "# iii.)\n",
    "every_other_day = [temp for i,temp in enumerate(temperatures) if i % 2 == 0]\n",
    "\n",
    "# iv.)\n",
    "print(f\"Original list: {temperatures}\\n\")\n",
    "print(f\"First three days: {first_three_days}\")\n",
    "print(f\"Last two days: {last_two_days}\")\n",
    "print(f\"Every other day: {every_other_day}\")\n"
   ]
  },
  {
   "cell_type": "markdown",
   "id": "3fe1555b",
   "metadata": {},
   "source": [
    "## Python Exercises for Dataframes and Indexing"
   ]
  },
  {
   "cell_type": "code",
   "execution_count": null,
   "id": "ada1a646",
   "metadata": {},
   "outputs": [
    {
     "name": "stdout",
     "output_type": "stream",
     "text": [
      "  Month  Rent  Marketing  Salaries\n",
      "0   Jan  1200        800     10000\n",
      "1   Feb  1200        600     10000\n",
      "2   Mar  1200       1200     10500\n",
      "3   Apr  1200        700     11200\n",
      "4   May  1200        950     11400\n",
      "  Month  Rent  Marketing  Salaries\n",
      "0   Jan  1200        800     10000\n",
      "1   Feb  1200        600     10000\n",
      "  Month  Rent  Marketing  Salaries\n",
      "2   Mar  1200       1200     10500\n",
      "  Month  Rent  Marketing  Salaries\n",
      "2   Mar  1200       1200     10500\n",
      "5  June  1200       1100     11600\n",
      "  Month  Salaries\n",
      "0   Jan     10000\n",
      "1   Feb     10000\n",
      "2   Mar     10500\n",
      "3   Apr     11200\n",
      "4   May     11400\n",
      "5  June     11600\n"
     ]
    }
   ],
   "source": [
    "# 1\n",
    "\n",
    "# i.)\n",
    "months = \"Jan Feb Mar Apr May June\".split()\n",
    "rents = [1200 for _ in range(6)]\n",
    "marketing = [800, 600, 1200, 700, 950, 1100]\n",
    "salaries = [10000, 10000, 10500, 11200, 11400, 11600]\n",
    "\n",
    "d = {\"Month\":months,\n",
    "     \"Rent\":rents,\n",
    "     \"Marketing\":marketing,\n",
    "     \"Salaries\":salaries}\n",
    "\n",
    "# ii.)\n",
    "expenses = pd.DataFrame(data=d)\n",
    "\n",
    "# iii.)\n",
    "print(expenses.head()) # first five rows\n",
    "\n",
    "# iv.)\n",
    "print(expenses.iloc[0:2]) # first two rows\n",
    "\n",
    "# v.)\n",
    "mask1 = expenses[\"Month\"] == \"Mar\"\n",
    "print(expenses[mask1]) # March only\n",
    "\n",
    "# vi.)\n",
    "mask2 = expenses[\"Marketing\"] > 1000\n",
    "print(expenses[mask2])\n",
    "\n",
    "# vii.)\n",
    "print(expenses.loc[:,[\"Month\",\"Salaries\"]])"
   ]
  },
  {
   "cell_type": "code",
   "execution_count": null,
   "id": "a5883ba2",
   "metadata": {},
   "outputs": [
    {
     "name": "stdout",
     "output_type": "stream",
     "text": [
      "   X    age  income  savings    education\n",
      "0  1  20-40    1000      800  High School\n",
      "1  2  20-40    2000      500          NaN\n",
      "2  3  60-80    4000     3000   University\n",
      "3  4  40-60    5000    12500   University\n",
      "4  5  60-80    4000    10000  High School\n",
      "               X       income       savings\n",
      "count  30.000000    30.000000     30.000000\n",
      "mean   15.500000  4033.333333   8596.666667\n",
      "std     8.803408  1670.914128   8108.083805\n",
      "min     1.000000  1000.000000    400.000000\n",
      "25%     8.250000  3250.000000   3125.000000\n",
      "50%    15.500000  4000.000000   5800.000000\n",
      "75%    22.750000  5000.000000  12375.000000\n",
      "max    30.000000  8000.000000  34000.000000\n",
      "<class 'pandas.core.frame.DataFrame'>\n",
      "RangeIndex: 30 entries, 0 to 29\n",
      "Data columns (total 5 columns):\n",
      " #   Column     Non-Null Count  Dtype \n",
      "---  ------     --------------  ----- \n",
      " 0   X          30 non-null     int64 \n",
      " 1   age        30 non-null     object\n",
      " 2   income     30 non-null     int64 \n",
      " 3   savings    30 non-null     int64 \n",
      " 4   education  27 non-null     object\n",
      "dtypes: int64(3), object(2)\n",
      "memory usage: 1.3+ KB\n",
      "None\n"
     ]
    }
   ],
   "source": [
    "# 2)\n",
    "\n",
    "# i.)\n",
    "people = pd.read_csv(\"people.csv\",sep=\";\")\n",
    "\n",
    "# ii.)\n",
    "print(people.head())\n",
    "print(people.describe())\n",
    "print(people.info())"
   ]
  },
  {
   "cell_type": "code",
   "execution_count": null,
   "id": "08be9d13",
   "metadata": {},
   "outputs": [
    {
     "name": "stdout",
     "output_type": "stream",
     "text": [
      "      age    education\n",
      "3   40-60   University\n",
      "4   60-80  High School\n",
      "6   20-40   University\n",
      "7   40-60   University\n",
      "10  40-60   University\n",
      "11  40-60   University\n",
      "12  40-60  High School\n",
      "14  20-40  High School\n",
      "15  40-60   University\n",
      "16  40-60   University\n",
      "19  60-80  High School\n",
      "20  40-60   University\n",
      "21  40-60   University\n",
      "24  40-60  High School\n",
      "28  40-60   University\n",
      "29  20-40   University\n"
     ]
    }
   ],
   "source": [
    "# iii.)\n",
    "mask3 = people[\"savings\"] > 5000\n",
    "print(people.loc[:,[\"age\",\"education\"]][mask3])"
   ]
  },
  {
   "cell_type": "code",
   "execution_count": null,
   "id": "74eac2e7",
   "metadata": {},
   "outputs": [
    {
     "name": "stdout",
     "output_type": "stream",
     "text": [
      "   income  savings\n",
      "2    4000     3000\n"
     ]
    }
   ],
   "source": [
    "# iv.)\n",
    "mask4 = ((people[\"age\"] == \"60-80\") & (people[\"education\"] == \"University\"))\n",
    "print(people.loc[:,[\"income\",\"savings\"]][mask4])"
   ]
  }
 ],
 "metadata": {
  "kernelspec": {
   "display_name": "base",
   "language": "python",
   "name": "python3"
  },
  "language_info": {
   "codemirror_mode": {
    "name": "ipython",
    "version": 3
   },
   "file_extension": ".py",
   "mimetype": "text/x-python",
   "name": "python",
   "nbconvert_exporter": "python",
   "pygments_lexer": "ipython3",
   "version": "3.13.5"
  }
 },
 "nbformat": 4,
 "nbformat_minor": 5
}
