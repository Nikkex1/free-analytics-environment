{
 "cells": [
  {
   "cell_type": "markdown",
   "id": "4e56b13a",
   "metadata": {},
   "source": [
    "# Week 2"
   ]
  },
  {
   "cell_type": "code",
   "execution_count": 370,
   "id": "cc96673e",
   "metadata": {},
   "outputs": [],
   "source": [
    "# Imports\n",
    "import pandas as pd"
   ]
  },
  {
   "cell_type": "markdown",
   "id": "d4391af9",
   "metadata": {},
   "source": [
    "## Python exercises for user-defined functions, if-statements, FOR, and WHILE loops"
   ]
  },
  {
   "cell_type": "code",
   "execution_count": 371,
   "id": "dd4bdd95",
   "metadata": {},
   "outputs": [
    {
     "name": "stdout",
     "output_type": "stream",
     "text": [
      "Score 85, grade B\n",
      "Score 92, grade A\n",
      "Score 78, grade C\n",
      "\n",
      "Temperature 22 is high\n",
      "Temperature 24 is high\n",
      "Temperature 19 is normal or low\n",
      "Temperature 21 is high\n",
      "Temperature 23 is high\n",
      "Temperature 20 is normal or low\n",
      "Temperature 18 is normal or low\n"
     ]
    }
   ],
   "source": [
    "# 1\n",
    "def calaverage(a: int | float, b: int | float) -> float:\n",
    "    \"\"\"Returns the average of two numbers.\"\"\"\n",
    "\n",
    "    return (a+b)/2\n",
    "\n",
    "# 2\n",
    "def grade_student(score: int) -> str:\n",
    "    \"\"\"Returns letter grade corresponding to the score.\"\"\"\n",
    "\n",
    "    if score < 50 and score >= 0:\n",
    "        return \"F\"\n",
    "    elif score < 60:\n",
    "        return \"E\"\n",
    "    elif score < 70:\n",
    "        return \"D\"\n",
    "    elif score < 80:\n",
    "        return \"C\"\n",
    "    elif score < 90:\n",
    "        return \"B\"\n",
    "    elif score <= 100:\n",
    "        return \"A\"\n",
    "    else:\n",
    "        return \"The score must be between 0 and 100.\"\n",
    "\n",
    "for i in [85, 92, 78]:\n",
    "    print(f\"Score {i}, grade {grade_student(i)}\")\n",
    "\n",
    "# 3\n",
    "print() # for separating the outputs of exercise 2 and 3\n",
    "temperatures = [22, 24, 19, 21, 23, 20, 18]\n",
    "\n",
    "for temp in temperatures:\n",
    "    if temp >= 21:\n",
    "        print(f\"Temperature {temp} is high\")\n",
    "    else:\n",
    "        print(f\"Temperature {temp} is normal or low\")"
   ]
  },
  {
   "cell_type": "code",
   "execution_count": 372,
   "id": "2c39d002",
   "metadata": {},
   "outputs": [
    {
     "name": "stdout",
     "output_type": "stream",
     "text": [
      "Month\n",
      "Rent\n",
      "Marketing\n",
      "Salaries\n",
      "\n",
      "Jan total expenses: 12000\n",
      "Feb total expenses: 11800\n",
      "Mar total expenses: 12900\n",
      "Apr total expenses: 13100\n",
      "May total expenses: 13550\n",
      "June total expenses: 13900\n"
     ]
    }
   ],
   "source": [
    "# 4\n",
    "# i)\n",
    "d = {\"Month\": \"Jan Feb Mar Apr May June\".split(),\n",
    "     \"Rent\": [1200 for _ in range(6)],\n",
    "     \"Marketing\": [800, 600, 1200, 700, 950, 1100],\n",
    "     \"Salaries\": [10000, 10000, 10500, 11200, 11400, 11600]}\n",
    "\n",
    "# ii)\n",
    "expenses = pd.DataFrame(d)\n",
    "\n",
    "# iii)\n",
    "for col in expenses.columns:\n",
    "    print(col)\n",
    "\n",
    "# iv)\n",
    "print()\n",
    "for i in range(len(expenses)):\n",
    "    total = expenses.iloc[i,1] + expenses.iloc[i,2] + expenses.iloc[i,3]\n",
    "    print(f\"{expenses.iloc[i,0]} total expenses: {total}\")"
   ]
  },
  {
   "cell_type": "code",
   "execution_count": 373,
   "id": "a11a4326",
   "metadata": {},
   "outputs": [
    {
     "name": "stdout",
     "output_type": "stream",
     "text": [
      "2\n",
      "4\n",
      "6\n",
      "8\n",
      "10\n",
      "12\n",
      "14\n",
      "16\n",
      "18\n",
      "20\n",
      "\n",
      "200\n",
      "190\n",
      "180\n",
      "170\n",
      "160\n",
      "150\n"
     ]
    }
   ],
   "source": [
    "# 5\n",
    "for i in range(1,21):\n",
    "    if i % 2 == 0: print(i)\n",
    "\n",
    "# 6\n",
    "print()\n",
    "product_price = 200\n",
    "\n",
    "while product_price != 150:\n",
    "    print(product_price)\n",
    "    product_price -= 10\n",
    "    if product_price == 150: print(product_price)"
   ]
  },
  {
   "cell_type": "code",
   "execution_count": 374,
   "id": "dd5e833d",
   "metadata": {},
   "outputs": [
    {
     "name": "stdout",
     "output_type": "stream",
     "text": [
      "It takes 18 years to reach a salary of 50000.\n"
     ]
    }
   ],
   "source": [
    "# 7\n",
    "salary = 30000\n",
    "y_count = 0\n",
    "\n",
    "while salary <= 50000:\n",
    "    salary *= 1.03\n",
    "    y_count += 1\n",
    "\n",
    "print(f\"It takes {y_count} years to reach a salary of 50000.\")"
   ]
  },
  {
   "cell_type": "code",
   "execution_count": 375,
   "id": "18f50d6b",
   "metadata": {},
   "outputs": [
    {
     "name": "stdout",
     "output_type": "stream",
     "text": [
      "90.0\n",
      "225.0\n",
      "72.0\n",
      "135.0\n"
     ]
    }
   ],
   "source": [
    "# 8\n",
    "def apply_discount(price: int | float, discount: int | float) -> float:\n",
    "    \"\"\"Returns the discounted price based on price and discount percent.\"\"\"\n",
    "\n",
    "    return price * ((100 - discount)/100)\n",
    "\n",
    "product_prices = [100, 250, 80, 150]\n",
    "discount_rate = 10 # 10% discount\n",
    "\n",
    "for p in product_prices:\n",
    "    print(apply_discount(p,discount_rate))"
   ]
  },
  {
   "cell_type": "markdown",
   "id": "9f1c152d",
   "metadata": {},
   "source": [
    "## Python exercises for combining DataFrames"
   ]
  },
  {
   "cell_type": "code",
   "execution_count": 376,
   "id": "aaef8845",
   "metadata": {},
   "outputs": [
    {
     "name": "stdout",
     "output_type": "stream",
     "text": [
      "Apple:\n",
      "         Date Close/Last    Volume      Open       High        Low Company\n",
      "0  09/08/2025    $237.88  48999500   $239.30    $240.15    $236.34   Apple\n",
      "1  09/05/2025    $239.69  54870400  $239.995    $241.32  $238.4901   Apple\n",
      "2  09/04/2025    $239.78  47549430   $238.45  $239.8999    $236.74   Apple\n",
      "3  09/03/2025    $238.47  66427840   $237.21    $238.85    $234.36   Apple\n",
      "4  09/02/2025    $229.72  44075640   $229.25    $230.85    $226.97   Apple\n",
      "<class 'pandas.core.frame.DataFrame'>\n",
      "RangeIndex: 10 entries, 0 to 9\n",
      "Data columns (total 7 columns):\n",
      " #   Column      Non-Null Count  Dtype \n",
      "---  ------      --------------  ----- \n",
      " 0   Date        10 non-null     object\n",
      " 1   Close/Last  10 non-null     object\n",
      " 2   Volume      10 non-null     int64 \n",
      " 3   Open        10 non-null     object\n",
      " 4   High        10 non-null     object\n",
      " 5   Low         10 non-null     object\n",
      " 6   Company     10 non-null     object\n",
      "dtypes: int64(1), object(6)\n",
      "memory usage: 692.0+ bytes\n",
      "None\n",
      "             Volume\n",
      "count  1.000000e+01\n",
      "mean   4.562337e+07\n",
      "std    1.121562e+07\n",
      "min    3.098313e+07\n",
      "25%    3.841064e+07\n",
      "50%    4.581254e+07\n",
      "75%    5.318121e+07\n",
      "max    6.642784e+07\n",
      "\n",
      "Microsoft:\n",
      "         Date Close/Last    Volume      Open      High      Low    Company\n",
      "0  09/08/2025    $498.20  16771020  $498.105  $501.195  $495.03  Microsoft\n",
      "1  09/05/2025    $495.00  31994850   $509.07   $511.97  $492.37  Microsoft\n",
      "2  09/04/2025    $507.97  15509490   $504.30   $508.15  $503.15  Microsoft\n",
      "3  09/03/2025    $505.35  16345080   $503.79   $507.79  $502.32  Microsoft\n",
      "4  09/02/2025    $505.12  18128000  $500.465   $506.00  $496.81  Microsoft\n",
      "<class 'pandas.core.frame.DataFrame'>\n",
      "RangeIndex: 10 entries, 0 to 9\n",
      "Data columns (total 7 columns):\n",
      " #   Column      Non-Null Count  Dtype \n",
      "---  ------      --------------  ----- \n",
      " 0   Date        10 non-null     object\n",
      " 1   Close/Last  10 non-null     object\n",
      " 2   Volume      10 non-null     int64 \n",
      " 3   Open        10 non-null     object\n",
      " 4   High        10 non-null     object\n",
      " 5   Low         10 non-null     object\n",
      " 6   Company     10 non-null     object\n",
      "dtypes: int64(1), object(6)\n",
      "memory usage: 692.0+ bytes\n",
      "None\n",
      "             Volume\n",
      "count  1.000000e+01\n",
      "mean   2.074778e+07\n",
      "std    5.945198e+06\n",
      "min    1.550949e+07\n",
      "25%    1.689774e+07\n",
      "50%    1.807180e+07\n",
      "75%    2.146933e+07\n",
      "max    3.199485e+07\n"
     ]
    }
   ],
   "source": [
    "# 1\n",
    "\n",
    "# i\n",
    "apple_df = pd.read_csv(\"Apple.csv\",sep=\",\")\n",
    "microsoft_df = pd.read_csv(\"Microsoft.csv\",sep=\",\")\n",
    "\n",
    "# ii)\n",
    "print(\"Apple:\")\n",
    "print(apple_df.head())\n",
    "print(apple_df.info())\n",
    "print(apple_df.describe())\n",
    "\n",
    "print(\"\\nMicrosoft:\")\n",
    "print(microsoft_df.head())\n",
    "print(microsoft_df.info())\n",
    "print(microsoft_df.describe())"
   ]
  },
  {
   "cell_type": "code",
   "execution_count": 377,
   "id": "1eaba8f8",
   "metadata": {},
   "outputs": [
    {
     "name": "stdout",
     "output_type": "stream",
     "text": [
      "          Date Close/Last    Volume      Open       High        Low    Company\n",
      "0   09/08/2025    $237.88  48999500   $239.30    $240.15    $236.34      Apple\n",
      "1   09/05/2025    $239.69  54870400  $239.995    $241.32  $238.4901      Apple\n",
      "2   09/04/2025    $239.78  47549430   $238.45  $239.8999    $236.74      Apple\n",
      "3   09/03/2025    $238.47  66427840   $237.21    $238.85    $234.36      Apple\n",
      "4   09/02/2025    $229.72  44075640   $229.25    $230.85    $226.97      Apple\n",
      "5   08/29/2025    $232.14  39418440   $232.51    $233.38    $231.37      Apple\n",
      "6   08/28/2025    $232.56  38074700   $230.82    $233.41   $229.335      Apple\n",
      "7   08/27/2025    $230.49  31259510   $228.61    $230.90    $228.26      Apple\n",
      "8   08/26/2025    $229.31  54575110   $226.87    $229.49    $224.69      Apple\n",
      "9   08/25/2025    $227.16  30983130   $226.48    $229.30    $226.23      Apple\n",
      "10  09/08/2025    $498.20  16771020  $498.105   $501.195    $495.03  Microsoft\n",
      "11  09/05/2025    $495.00  31994850   $509.07    $511.97    $492.37  Microsoft\n",
      "12  09/04/2025    $507.97  15509490   $504.30    $508.15    $503.15  Microsoft\n",
      "13  09/03/2025    $505.35  16345080   $503.79    $507.79    $502.32  Microsoft\n",
      "14  09/02/2025    $505.12  18128000  $500.465    $506.00    $496.81  Microsoft\n",
      "15  08/29/2025    $506.69  20961570   $508.66    $509.60  $504.4915  Microsoft\n",
      "16  08/28/2025    $509.64  18015590   $507.09    $511.09    $505.50  Microsoft\n",
      "17  08/27/2025    $506.74  17277890   $502.00    $507.29    $499.90  Microsoft\n",
      "18  08/26/2025    $502.04  30835710  $504.355  $504.9778    $498.51  Microsoft\n",
      "19  08/25/2025    $504.26  21638580   $506.63    $508.19    $504.12  Microsoft\n",
      "           0        1         2         3          4          5      6   \\\n",
      "0  09/08/2025  $237.88  48999500   $239.30    $240.15    $236.34  Apple   \n",
      "1  09/05/2025  $239.69  54870400  $239.995    $241.32  $238.4901  Apple   \n",
      "2  09/04/2025  $239.78  47549430   $238.45  $239.8999    $236.74  Apple   \n",
      "3  09/03/2025  $238.47  66427840   $237.21    $238.85    $234.36  Apple   \n",
      "4  09/02/2025  $229.72  44075640   $229.25    $230.85    $226.97  Apple   \n",
      "5  08/29/2025  $232.14  39418440   $232.51    $233.38    $231.37  Apple   \n",
      "6  08/28/2025  $232.56  38074700   $230.82    $233.41   $229.335  Apple   \n",
      "7  08/27/2025  $230.49  31259510   $228.61    $230.90    $228.26  Apple   \n",
      "8  08/26/2025  $229.31  54575110   $226.87    $229.49    $224.69  Apple   \n",
      "9  08/25/2025  $227.16  30983130   $226.48    $229.30    $226.23  Apple   \n",
      "\n",
      "           7        8         9         10         11         12         13  \n",
      "0  09/08/2025  $498.20  16771020  $498.105   $501.195    $495.03  Microsoft  \n",
      "1  09/05/2025  $495.00  31994850   $509.07    $511.97    $492.37  Microsoft  \n",
      "2  09/04/2025  $507.97  15509490   $504.30    $508.15    $503.15  Microsoft  \n",
      "3  09/03/2025  $505.35  16345080   $503.79    $507.79    $502.32  Microsoft  \n",
      "4  09/02/2025  $505.12  18128000  $500.465    $506.00    $496.81  Microsoft  \n",
      "5  08/29/2025  $506.69  20961570   $508.66    $509.60  $504.4915  Microsoft  \n",
      "6  08/28/2025  $509.64  18015590   $507.09    $511.09    $505.50  Microsoft  \n",
      "7  08/27/2025  $506.74  17277890   $502.00    $507.29    $499.90  Microsoft  \n",
      "8  08/26/2025  $502.04  30835710  $504.355  $504.9778    $498.51  Microsoft  \n",
      "9  08/25/2025  $504.26  21638580   $506.63    $508.19    $504.12  Microsoft  \n"
     ]
    }
   ],
   "source": [
    "# iii)\n",
    "# axis = 0 stack rows\n",
    "df_vertical = pd.concat([apple_df,microsoft_df],ignore_index=True)\n",
    "print(df_vertical)\n",
    "\n",
    "# iv)\n",
    "# axis = 1 expand columns\n",
    "df_horizontal = pd.concat([apple_df,microsoft_df],axis=1,ignore_index=True)\n",
    "print(df_horizontal)"
   ]
  },
  {
   "cell_type": "code",
   "execution_count": 378,
   "id": "01886ce5",
   "metadata": {},
   "outputs": [
    {
     "name": "stdout",
     "output_type": "stream",
     "text": [
      "         Date Close/Last_x  Volume_x    Open_x     High_x      Low_x  \\\n",
      "0  09/08/2025      $237.88  48999500   $239.30    $240.15    $236.34   \n",
      "1  09/05/2025      $239.69  54870400  $239.995    $241.32  $238.4901   \n",
      "2  09/04/2025      $239.78  47549430   $238.45  $239.8999    $236.74   \n",
      "3  09/03/2025      $238.47  66427840   $237.21    $238.85    $234.36   \n",
      "4  09/02/2025      $229.72  44075640   $229.25    $230.85    $226.97   \n",
      "5  08/29/2025      $232.14  39418440   $232.51    $233.38    $231.37   \n",
      "6  08/28/2025      $232.56  38074700   $230.82    $233.41   $229.335   \n",
      "7  08/27/2025      $230.49  31259510   $228.61    $230.90    $228.26   \n",
      "8  08/26/2025      $229.31  54575110   $226.87    $229.49    $224.69   \n",
      "9  08/25/2025      $227.16  30983130   $226.48    $229.30    $226.23   \n",
      "\n",
      "  Company_x Close/Last_y  Volume_y    Open_y     High_y      Low_y  Company_y  \n",
      "0     Apple      $498.20  16771020  $498.105   $501.195    $495.03  Microsoft  \n",
      "1     Apple      $495.00  31994850   $509.07    $511.97    $492.37  Microsoft  \n",
      "2     Apple      $507.97  15509490   $504.30    $508.15    $503.15  Microsoft  \n",
      "3     Apple      $505.35  16345080   $503.79    $507.79    $502.32  Microsoft  \n",
      "4     Apple      $505.12  18128000  $500.465    $506.00    $496.81  Microsoft  \n",
      "5     Apple      $506.69  20961570   $508.66    $509.60  $504.4915  Microsoft  \n",
      "6     Apple      $509.64  18015590   $507.09    $511.09    $505.50  Microsoft  \n",
      "7     Apple      $506.74  17277890   $502.00    $507.29    $499.90  Microsoft  \n",
      "8     Apple      $502.04  30835710  $504.355  $504.9778    $498.51  Microsoft  \n",
      "9     Apple      $504.26  21638580   $506.63    $508.19    $504.12  Microsoft  \n"
     ]
    }
   ],
   "source": [
    "# v)\n",
    "df_inner_merge = pd.merge(apple_df,microsoft_df,how=\"inner\",on=\"Date\")\n",
    "print(df_inner_merge)"
   ]
  },
  {
   "cell_type": "code",
   "execution_count": 379,
   "id": "c0b287a2",
   "metadata": {},
   "outputs": [
    {
     "name": "stdout",
     "output_type": "stream",
     "text": [
      "         Date Close/Last_x  Volume_x    Open_x     High_x      Low_x  \\\n",
      "0  09/08/2025      $237.88  48999500   $239.30    $240.15    $236.34   \n",
      "1  09/05/2025      $239.69  54870400  $239.995    $241.32  $238.4901   \n",
      "2  09/04/2025      $239.78  47549430   $238.45  $239.8999    $236.74   \n",
      "3  09/03/2025      $238.47  66427840   $237.21    $238.85    $234.36   \n",
      "4  09/02/2025      $229.72  44075640   $229.25    $230.85    $226.97   \n",
      "5  08/29/2025      $232.14  39418440   $232.51    $233.38    $231.37   \n",
      "6  08/28/2025      $232.56  38074700   $230.82    $233.41   $229.335   \n",
      "7  08/27/2025      $230.49  31259510   $228.61    $230.90    $228.26   \n",
      "8  08/26/2025      $229.31  54575110   $226.87    $229.49    $224.69   \n",
      "9  08/25/2025      $227.16  30983130   $226.48    $229.30    $226.23   \n",
      "\n",
      "  Company_x Close/Last_y  Volume_y    Open_y     High_y      Low_y  Company_y  \n",
      "0     Apple      $498.20  16771020  $498.105   $501.195    $495.03  Microsoft  \n",
      "1     Apple      $495.00  31994850   $509.07    $511.97    $492.37  Microsoft  \n",
      "2     Apple      $507.97  15509490   $504.30    $508.15    $503.15  Microsoft  \n",
      "3     Apple      $505.35  16345080   $503.79    $507.79    $502.32  Microsoft  \n",
      "4     Apple      $505.12  18128000  $500.465    $506.00    $496.81  Microsoft  \n",
      "5     Apple      $506.69  20961570   $508.66    $509.60  $504.4915  Microsoft  \n",
      "6     Apple      $509.64  18015590   $507.09    $511.09    $505.50  Microsoft  \n",
      "7     Apple      $506.74  17277890   $502.00    $507.29    $499.90  Microsoft  \n",
      "8     Apple      $502.04  30835710  $504.355  $504.9778    $498.51  Microsoft  \n",
      "9     Apple      $504.26  21638580   $506.63    $508.19    $504.12  Microsoft  \n"
     ]
    }
   ],
   "source": [
    "# vi)\n",
    "df_left_merge = pd.merge(apple_df,microsoft_df,how=\"left\",on=\"Date\")\n",
    "print(df_left_merge)"
   ]
  },
  {
   "cell_type": "code",
   "execution_count": 380,
   "id": "24ec9807",
   "metadata": {},
   "outputs": [
    {
     "name": "stdout",
     "output_type": "stream",
     "text": [
      "         Date Close/Last_x  Volume_x    Open_x     High_x      Low_x  \\\n",
      "0  08/25/2025      $227.16  30983130   $226.48    $229.30    $226.23   \n",
      "1  08/26/2025      $229.31  54575110   $226.87    $229.49    $224.69   \n",
      "2  08/27/2025      $230.49  31259510   $228.61    $230.90    $228.26   \n",
      "3  08/28/2025      $232.56  38074700   $230.82    $233.41   $229.335   \n",
      "4  08/29/2025      $232.14  39418440   $232.51    $233.38    $231.37   \n",
      "5  09/02/2025      $229.72  44075640   $229.25    $230.85    $226.97   \n",
      "6  09/03/2025      $238.47  66427840   $237.21    $238.85    $234.36   \n",
      "7  09/04/2025      $239.78  47549430   $238.45  $239.8999    $236.74   \n",
      "8  09/05/2025      $239.69  54870400  $239.995    $241.32  $238.4901   \n",
      "9  09/08/2025      $237.88  48999500   $239.30    $240.15    $236.34   \n",
      "\n",
      "  Company_x Close/Last_y  Volume_y    Open_y     High_y      Low_y  Company_y  \n",
      "0     Apple      $504.26  21638580   $506.63    $508.19    $504.12  Microsoft  \n",
      "1     Apple      $502.04  30835710  $504.355  $504.9778    $498.51  Microsoft  \n",
      "2     Apple      $506.74  17277890   $502.00    $507.29    $499.90  Microsoft  \n",
      "3     Apple      $509.64  18015590   $507.09    $511.09    $505.50  Microsoft  \n",
      "4     Apple      $506.69  20961570   $508.66    $509.60  $504.4915  Microsoft  \n",
      "5     Apple      $505.12  18128000  $500.465    $506.00    $496.81  Microsoft  \n",
      "6     Apple      $505.35  16345080   $503.79    $507.79    $502.32  Microsoft  \n",
      "7     Apple      $507.97  15509490   $504.30    $508.15    $503.15  Microsoft  \n",
      "8     Apple      $495.00  31994850   $509.07    $511.97    $492.37  Microsoft  \n",
      "9     Apple      $498.20  16771020  $498.105   $501.195    $495.03  Microsoft  \n"
     ]
    }
   ],
   "source": [
    "# vii)\n",
    "df_outer_merge = pd.merge(apple_df,microsoft_df,how=\"outer\",on=\"Date\")\n",
    "print(df_outer_merge)"
   ]
  },
  {
   "cell_type": "code",
   "execution_count": 381,
   "id": "5b1821e4",
   "metadata": {},
   "outputs": [
    {
     "name": "stdout",
     "output_type": "stream",
     "text": [
      "Vertical:\n",
      "Number of rows 20\n",
      "Date column:\n",
      "['09/08/2025', '09/05/2025', '09/04/2025', '09/03/2025', '09/02/2025', '08/29/2025', '08/28/2025', '08/27/2025', '08/26/2025', '08/25/2025', '09/08/2025', '09/05/2025', '09/04/2025', '09/03/2025', '09/02/2025', '08/29/2025', '08/28/2025', '08/27/2025', '08/26/2025', '08/25/2025']\n",
      "\n",
      "Horizontal:\n",
      "Number of rows 10\n",
      "0 column:\n",
      "['09/08/2025', '09/05/2025', '09/04/2025', '09/03/2025', '09/02/2025', '08/29/2025', '08/28/2025', '08/27/2025', '08/26/2025', '08/25/2025']\n",
      "\n",
      "Inner:\n",
      "Number of rows 10\n",
      "Date column:\n",
      "['09/08/2025', '09/05/2025', '09/04/2025', '09/03/2025', '09/02/2025', '08/29/2025', '08/28/2025', '08/27/2025', '08/26/2025', '08/25/2025']\n",
      "\n",
      "Left:\n",
      "Number of rows 10\n",
      "Date column:\n",
      "['09/08/2025', '09/05/2025', '09/04/2025', '09/03/2025', '09/02/2025', '08/29/2025', '08/28/2025', '08/27/2025', '08/26/2025', '08/25/2025']\n",
      "\n",
      "Outer:\n",
      "Number of rows 10\n",
      "Date column:\n",
      "['08/25/2025', '08/26/2025', '08/27/2025', '08/28/2025', '08/29/2025', '09/02/2025', '09/03/2025', '09/04/2025', '09/05/2025', '09/08/2025']\n",
      "\n"
     ]
    }
   ],
   "source": [
    "# viii)\n",
    "df_list = [df_vertical,df_horizontal,df_inner_merge,df_left_merge,df_outer_merge]\n",
    "df_names = \"Vertical Horizontal Inner Left Outer\".split()\n",
    "df_dict = dict(zip(df_names,df_list))\n",
    "for key, df in df_dict.items():\n",
    "    print(f\"{key}:\\nNumber of rows {len(df)}\")\n",
    "    try:\n",
    "        print(f\"Date column:\\n{list(df[\"Date\"])}\\n\")\n",
    "    except:\n",
    "        print(f\"0 column:\\n{list(df[0])}\\n\")"
   ]
  },
  {
   "cell_type": "code",
   "execution_count": 382,
   "id": "d2557560",
   "metadata": {},
   "outputs": [
    {
     "name": "stdout",
     "output_type": "stream",
     "text": [
      "           Close/Last    Volume      Open       High        Low Company\n",
      "Date                                                                   \n",
      "09/08/2025    $237.88  48999500   $239.30    $240.15    $236.34   Apple\n",
      "09/05/2025    $239.69  54870400  $239.995    $241.32  $238.4901   Apple\n",
      "09/04/2025    $239.78  47549430   $238.45  $239.8999    $236.74   Apple\n",
      "09/03/2025    $238.47  66427840   $237.21    $238.85    $234.36   Apple\n",
      "09/02/2025    $229.72  44075640   $229.25    $230.85    $226.97   Apple\n",
      "08/29/2025    $232.14  39418440   $232.51    $233.38    $231.37   Apple\n",
      "08/28/2025    $232.56  38074700   $230.82    $233.41   $229.335   Apple\n",
      "08/27/2025    $230.49  31259510   $228.61    $230.90    $228.26   Apple\n",
      "08/26/2025    $229.31  54575110   $226.87    $229.49    $224.69   Apple\n",
      "08/25/2025    $227.16  30983130   $226.48    $229.30    $226.23   Apple\n",
      "           Close/Last    Volume      Open       High        Low    Company\n",
      "Date                                                                      \n",
      "09/08/2025    $498.20  16771020  $498.105   $501.195    $495.03  Microsoft\n",
      "09/05/2025    $495.00  31994850   $509.07    $511.97    $492.37  Microsoft\n",
      "09/04/2025    $507.97  15509490   $504.30    $508.15    $503.15  Microsoft\n",
      "09/03/2025    $505.35  16345080   $503.79    $507.79    $502.32  Microsoft\n",
      "09/02/2025    $505.12  18128000  $500.465    $506.00    $496.81  Microsoft\n",
      "08/29/2025    $506.69  20961570   $508.66    $509.60  $504.4915  Microsoft\n",
      "08/28/2025    $509.64  18015590   $507.09    $511.09    $505.50  Microsoft\n",
      "08/27/2025    $506.74  17277890   $502.00    $507.29    $499.90  Microsoft\n",
      "08/26/2025    $502.04  30835710  $504.355  $504.9778    $498.51  Microsoft\n",
      "08/25/2025    $504.26  21638580   $506.63    $508.19    $504.12  Microsoft\n"
     ]
    }
   ],
   "source": [
    "# 2\n",
    "\n",
    "# i)\n",
    "apple_df.set_index(apple_df[\"Date\"],inplace=True)\n",
    "microsoft_df.set_index(microsoft_df[\"Date\"],inplace=True)\n",
    "apple_df.drop(columns=[\"Date\"],inplace=True)\n",
    "microsoft_df.drop(columns=[\"Date\"],inplace=True)\n",
    "\n",
    "# Check\n",
    "print(apple_df)\n",
    "print(microsoft_df)\n",
    "\n",
    "# ii)\n",
    "df_joined = apple_df.join(microsoft_df, how=\"left\",lsuffix=\"_left\",rsuffix=\"_right\")\n",
    "\n",
    "# iii)\n",
    "df_joined_inner = apple_df.join(microsoft_df,how=\"inner\",lsuffix=\"_left\",rsuffix=\"_right\")\n",
    "\n",
    "# iv)\n",
    "df_joined_outer = apple_df.join(microsoft_df,how=\"outer\",lsuffix=\"_left\",rsuffix=\"_right\")"
   ]
  },
  {
   "cell_type": "code",
   "execution_count": null,
   "id": "99a4e2c7",
   "metadata": {},
   "outputs": [
    {
     "name": "stdout",
     "output_type": "stream",
     "text": [
      "Left:\n",
      "Number of rows: 10\n",
      "\n",
      "Inner:\n",
      "Number of rows: 10\n",
      "\n",
      "Outer:\n",
      "Number of rows: 10\n",
      "\n"
     ]
    }
   ],
   "source": [
    "# v)\n",
    "join_dict = {\"Left\":df_joined,\n",
    "             \"Inner\":df_joined_inner,\n",
    "             \"Outer\":df_joined_outer}\n",
    "\n",
    "for key, df in join_dict.items():\n",
    "    print(f\"{key}:\\nNumber of rows: {len(df)}\\n\")\n",
    "\n",
    "# No differences since the index is the same in both dataframes."
   ]
  }
 ],
 "metadata": {
  "kernelspec": {
   "display_name": "base",
   "language": "python",
   "name": "python3"
  },
  "language_info": {
   "codemirror_mode": {
    "name": "ipython",
    "version": 3
   },
   "file_extension": ".py",
   "mimetype": "text/x-python",
   "name": "python",
   "nbconvert_exporter": "python",
   "pygments_lexer": "ipython3",
   "version": "3.12.7"
  }
 },
 "nbformat": 4,
 "nbformat_minor": 5
}
